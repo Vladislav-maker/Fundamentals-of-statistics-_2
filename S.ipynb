{
  "nbformat": 4,
  "nbformat_minor": 0,
  "metadata": {
    "colab": {
      "provenance": [],
      "authorship_tag": "ABX9TyNkTqb+EwiT1bmkzCVAHTXA",
      "include_colab_link": true
    },
    "kernelspec": {
      "name": "python3",
      "display_name": "Python 3"
    },
    "language_info": {
      "name": "python"
    }
  },
  "cells": [
    {
      "cell_type": "markdown",
      "metadata": {
        "id": "view-in-github",
        "colab_type": "text"
      },
      "source": [
        "<a href=\"https://colab.research.google.com/github/Vladislav-maker/Fundamentals-of-statistics-_2/blob/main/S.ipynb\" target=\"_parent\"><img src=\"https://colab.research.google.com/assets/colab-badge.svg\" alt=\"Open In Colab\"/></a>"
      ]
    },
    {
      "cell_type": "code",
      "execution_count": 2,
      "metadata": {
        "colab": {
          "base_uri": "https://localhost:8080/"
        },
        "id": "-8c3wKKjS6Vn",
        "outputId": "01c8bd26-4368-440a-9854-4bf38908a77d"
      },
      "outputs": [
        {
          "output_type": "stream",
          "name": "stdout",
          "text": [
            "Вероятность того, что будет выплачено меньше 20000 у.е.: 0.0269\n"
          ]
        },
        {
          "output_type": "stream",
          "name": "stderr",
          "text": [
            "<ipython-input-2-0187728b6a9e>:16: DeprecationWarning: `np.math` is a deprecated alias for the standard library `math` module (Deprecated Numpy 1.25). Replace usages of `np.math` with `math`\n",
            "  prob_n = (np.power(lambda_1 * weeks, n) * np.exp(-lambda_1 * weeks)) / np.math.factorial(n)\n"
          ]
        }
      ],
      "source": [
        "import numpy as np\n",
        "import scipy.stats as stats\n",
        "\n",
        "# Параметры\n",
        "lambda_1 = 5  # среднее число выплат в неделю\n",
        "weeks = 4\n",
        "mean_X = 2000\n",
        "alpha = lambda_1 * weeks  # среднее количество выплат за 4 недели\n",
        "scale = mean_X  # параметр распределения\n",
        "\n",
        "# Функция для вычисления полной вероятность\n",
        "def compute_probability(value):\n",
        "    result = 0\n",
        "    # Рассмотрим n от 0 до 20\n",
        "    for n in range(20):\n",
        "        prob_n = (np.power(lambda_1 * weeks, n) * np.exp(-lambda_1 * weeks)) / np.math.factorial(n)\n",
        "        if n > 0:\n",
        "            # Вероятность для гамма-распределения\n",
        "            prob_S_less_th = stats.gamma.cdf(value, a=n, scale=scale)\n",
        "            result += prob_n * prob_S_less_th\n",
        "\n",
        "    return result\n",
        "\n",
        "value = 20000\n",
        "probability_less_than_20000 = compute_probability(value)\n",
        "\n",
        "print(f\"Вероятность того, что будет выплачено меньше {value} у.е.: {probability_less_than_20000:.4f}\")"
      ]
    }
  ]
}